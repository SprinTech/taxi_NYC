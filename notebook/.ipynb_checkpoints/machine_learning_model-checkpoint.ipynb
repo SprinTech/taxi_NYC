{
 "cells": [
  {
   "cell_type": "code",
   "execution_count": 1,
   "metadata": {
    "pycharm": {
     "name": "#%%\n"
    }
   },
   "outputs": [],
   "source": [
    "import pandas as pd\n",
    "import numpy as np\n",
    "import matplotlib.pyplot as plt\n",
    "import seaborn as sns\n",
    "\n",
    "from sklearn.model_selection import train_test_split\n",
    "from sklearn import linear_model\n",
    "from sklearn.linear_model import LogisticRegression\n",
    "from sklearn.metrics import mean_squared_error, r2_score"
   ]
  },
  {
   "cell_type": "code",
   "execution_count": 2,
   "metadata": {
    "pycharm": {
     "name": "#%%\n"
    }
   },
   "outputs": [],
   "source": [
    "df = pd.read_csv('/home/apprenant/taxi_NYC/Data/02_processed/cleaned_data.csv').sample(50000)"
   ]
  },
  {
   "cell_type": "markdown",
   "metadata": {},
   "source": [
    "### 1. Modèlisation\n",
    "#### Sélection de la variable cible et des variables à explicatives"
   ]
  },
  {
   "cell_type": "code",
   "execution_count": 3,
   "metadata": {
    "pycharm": {
     "name": "#%%\n"
    }
   },
   "outputs": [],
   "source": [
    "X = df[['distance']]\n",
    "y = df[['trip_duration']]"
   ]
  },
  {
   "cell_type": "markdown",
   "metadata": {},
   "source": [
    "#### Division du jeu de données en training/validation/testing sets"
   ]
  },
  {
   "cell_type": "code",
   "execution_count": 4,
   "metadata": {
    "pycharm": {
     "name": "#%%\n"
    }
   },
   "outputs": [
    {
     "name": "stderr",
     "output_type": "stream",
     "text": [
      "/home/apprenant/anaconda3/lib/python3.7/site-packages/sklearn/model_selection/_split.py:2179: FutureWarning: From version 0.21, test_size will always complement train_size unless both are specified.\n",
      "  FutureWarning)\n"
     ]
    }
   ],
   "source": [
    "xtrain, xtest, ytrain, ytest = train_test_split(X, y, train_size=0.8)"
   ]
  },
  {
   "cell_type": "markdown",
   "metadata": {
    "pycharm": {
     "name": "#%% md\n"
    }
   },
   "source": [
    "#### Apprentissage sur le training set"
   ]
  },
  {
   "cell_type": "code",
   "execution_count": 5,
   "metadata": {
    "pycharm": {
     "name": "#%%\n"
    }
   },
   "outputs": [],
   "source": [
    "regr = linear_model.LinearRegression()\n",
    "regr.fit(xtrain, ytrain)\n",
    "model_uni = linear_model.LinearRegression().fit(xtrain, ytrain)"
   ]
  },
  {
   "cell_type": "code",
   "execution_count": 6,
   "metadata": {
    "pycharm": {
     "name": "#%%\n"
    }
   },
   "outputs": [
    {
     "name": "stdout",
     "output_type": "stream",
     "text": [
      "Le coefficient β1 est égal à 130.8 tandis que l'intercept β0 est égal à 301.0\n",
      "\n",
      "\n",
      "On comprend donc que la durée est de 301.0s auquel il faut ajouter 130.8s par trajet\n"
     ]
    }
   ],
   "source": [
    "df['predict_uni'] = pd.DataFrame(model_uni.predict(df[['distance']]))\n",
    "\n",
    "print(\"Le coefficient β1 est égal à {} tandis que l'intercept β0 est égal à {}\"\n",
    "      .format(np.round(regr.coef_[0][0],2),np.round(regr.intercept_[0])))\n",
    "\n",
    "print(\"\\n\")\n",
    "\n",
    "print(\"On comprend donc que la durée est de {}s auquel il faut ajouter {}s par trajet\"\n",
    "     .format(np.round(regr.intercept_[0]),np.round(regr.coef_[0][0],2)))"
   ]
  },
  {
   "cell_type": "markdown",
   "metadata": {
    "pycharm": {
     "name": "#%% md\n"
    }
   },
   "source": [
    "#### Test de la prédiction sur une valeur précise"
   ]
  },
  {
   "cell_type": "code",
   "execution_count": 7,
   "metadata": {
    "pycharm": {
     "name": "#%%\n"
    }
   },
   "outputs": [
    {
     "name": "stdout",
     "output_type": "stream",
     "text": [
      "Selon le modèle, pour une distance de 1.5 km à NYC temps de trajet serait de 497.0 s\n",
      "\n",
      "\n",
      "On remarque que 1.5 * 130.8 + 301.0 = 497.20000000000005\n"
     ]
    }
   ],
   "source": [
    "x_to_predict = 1.5\n",
    "x_df =  pd.DataFrame({'trip_duration': [x_to_predict]})\n",
    "\n",
    "print(\"Selon le modèle, pour une distance de {} km à NYC temps de trajet serait de {} s\"\n",
    "      .format(x_to_predict, round(regr.predict(x_df)[0][0])))\n",
    "\n",
    "print(\"\\n\")\n",
    "\n",
    "print (\"On remarque que {} * {} + {} = {}\"\n",
    "       .format(x_to_predict,np.round(regr.coef_[0][0],2),np.round(regr.intercept_[0]),\n",
    "               x_to_predict*np.round(regr.coef_[0][0],2)+np.round(regr.intercept_[0])))"
   ]
  },
  {
   "cell_type": "markdown",
   "metadata": {
    "pycharm": {
     "name": "#%% md\n"
    }
   },
   "source": [
    "#### Visualisation de la prédiction sous forme de regplot"
   ]
  },
  {
   "cell_type": "code",
   "execution_count": 8,
   "metadata": {
    "pycharm": {
     "name": "#%%\n"
    }
   },
   "outputs": [
    {
     "data": {
      "image/png": "[encoded data removed]",
      "text/plain": [
       "<Figure size 432x288 with 1 Axes>"
      ]
     },
     "metadata": {
      "needs_background": "light"
     },
     "output_type": "display_data"
    }
   ],
   "source": [
    "ytrainpred = regr.predict(xtrain)\n",
    "\n",
    "\n",
    "# Plot outputs\n",
    "plt.scatter(xtrain, ytrain,  color='red')\n",
    "plt.plot(xtrain, ytrainpred, color='blue', linewidth=3)\n",
    "plt.show()"
   ]
  },
  {
   "cell_type": "markdown",
   "metadata": {},
   "source": [
    "#### Évaluation du modèle sur le testing set"
   ]
  },
  {
   "cell_type": "code",
   "execution_count": 9,
   "metadata": {
    "pycharm": {
     "name": "#%%\n"
    }
   },
   "outputs": [
    {
     "name": "stdout",
     "output_type": "stream",
     "text": [
      "Pour les données d'entrainement le R2 vaut 0.72 alors que pour les données de test, il est de 0.712\n"
     ]
    }
   ],
   "source": [
    "# Calcul du coefficient de détermination\n",
    "ytrainpred = regr.predict(xtrain)\n",
    "ytestpred = regr.predict(xtest)\n",
    "\n",
    "print (\"Pour les données d'entrainement le R2 vaut {} alors que pour les données de test, il est de {}\"\n",
    "      .format(round(r2_score(ytrain, ytrainpred),3), round(r2_score(ytest, ytestpred),3)))"
   ]
  },
  {
   "cell_type": "code",
   "execution_count": 10,
   "metadata": {
    "pycharm": {
     "name": "#%%\n"
    }
   },
   "outputs": [
    {
     "ename": "TypeError",
     "evalue": "mean_squared_error() got an unexpected keyword argument 'squared'",
     "output_type": "error",
     "traceback": [
      "\u001b[0;31m---------------------------------------------------------------------------\u001b[0m",
      "\u001b[0;31mTypeError\u001b[0m                                 Traceback (most recent call last)",
      "\u001b[0;32m<ipython-input-10-0dce522511de>\u001b[0m in \u001b[0;36m<module>\u001b[0;34m\u001b[0m\n\u001b[1;32m      1\u001b[0m print (\"Pour les données d'entrainement le RMSE vaut {} alors que pour les données de test, il est de {}\"\n\u001b[0;32m----> 2\u001b[0;31m       .format(round(mean_squared_error(ytrain, ytrainpred, squared=False),3),\n\u001b[0m\u001b[1;32m      3\u001b[0m               round(mean_squared_error(ytest, ytestpred, squared=False),3)))\n",
      "\u001b[0;31mTypeError\u001b[0m: mean_squared_error() got an unexpected keyword argument 'squared'"
     ]
    }
   ],
   "source": [
    "print (\"Pour les données d'entrainement le RMSE vaut {} alors que pour les données de test, il est de {}\"\n",
    "      .format(round(mean_squared_error(ytrain, ytrainpred, squared=False),3),\n",
    "              round(mean_squared_error(ytest, ytestpred, squared=False),3)))"
   ]
  },
  {
   "cell_type": "code",
   "execution_count": null,
   "metadata": {
    "pycharm": {
     "name": "#%%\n"
    }
   },
   "outputs": [],
   "source": [
    "# Plot outputs\n",
    "plt.scatter(xtest, ytest,  color='red')\n",
    "plt.plot(xtest, ytestpred, color='blue', linewidth=3)\n",
    "\n",
    "plt.show()"
   ]
  },
  {
   "cell_type": "markdown",
   "metadata": {},
   "source": [
    "## Modèle de régression linéaire multivariée\n",
    "#### pour savoir si l'heure, le jour, le mois ont une incidence sur la durée du trajet, il faut les extraire de la date"
   ]
  },
  {
   "cell_type": "code",
   "execution_count": null,
   "metadata": {
    "pycharm": {
     "name": "#%%\n"
    }
   },
   "outputs": [],
   "source": [
    "df['month'] = pd.DatetimeIndex(df['pickup_datetime']).month\n",
    "df['day']= pd.DatetimeIndex(df['pickup_datetime']).day\n",
    "df['hour']= pd.DatetimeIndex(df['pickup_datetime']).hour"
   ]
  },
  {
   "cell_type": "code",
   "execution_count": null,
   "metadata": {
    "pycharm": {
     "name": "#%%\n"
    }
   },
   "outputs": [],
   "source": [
    "X = df[['distance', 'vitesse', 'day','hour']]\n",
    "y= df[['trip_duration']]\n",
    "xtrain, xtest, ytrain, ytest = train_test_split(X, y, train_size=0.8)\n",
    "regr = linear_model.LinearRegression()\n",
    "regr.fit(xtrain, ytrain)\n",
    "model_multi = linear_model.LinearRegression().fit(xtrain, ytrain)"
   ]
  },
  {
   "cell_type": "code",
   "execution_count": null,
   "metadata": {
    "pycharm": {
     "name": "#%%\n"
    }
   },
   "outputs": [],
   "source": [
    "print(\"Le coefficient β1 est égal à {} tandis que l'intercept β0 est égal à {}\"\n",
    "      .format(np.round(regr.coef_[0][0],2),np.round(regr.intercept_[0])))\n",
    "\n",
    "print(\"\\n\")\n",
    "\n",
    "print(\"On comprend donc que la durée est de {}s auquel il faut ajouter {}s par kilomètres\"\n",
    "     .format(np.round(regr.intercept_[0]),np.round(regr.coef_[0][0],2)))"
   ]
  },
  {
   "cell_type": "code",
   "execution_count": null,
   "metadata": {
    "pycharm": {
     "name": "#%%\n"
    }
   },
   "outputs": [],
   "source": [
    "x_to_predict = 1.5\n",
    "x_df =  pd.DataFrame({'distance': [x_to_predict],'vitesse':[x_to_predict], 'hour':[x_to_predict], 'day':[x_to_predict]})\n",
    "\n",
    "print(\"Selon le modèle, pour une distance de {} km à NYC temps de trajet serdisait de {} s\"\n",
    "      .format(x_to_predict, round(regr.predict(x_df)[0][0])))\n",
    "\n",
    "print(\"\\n\")\n",
    "\n",
    "\n",
    "\n",
    "print (\"On remarque que {} * {} + {} = {}\"\n",
    "       .format(x_to_predict,np.round(regr.coef_[0][0],2),np.round(regr.intercept_[0]),\n",
    "               x_to_predict*np.round(regr.coef_[0][0],2)+np.round(regr.intercept_[0], 2)))"
   ]
  },
  {
   "cell_type": "markdown",
   "metadata": {},
   "source": [
    "#### Prédiction de la durée en fonction du la distance, du jour, du mois et de la distance"
   ]
  },
  {
   "cell_type": "code",
   "execution_count": null,
   "metadata": {
    "pycharm": {
     "name": "#%%\n"
    }
   },
   "outputs": [],
   "source": [
    "df['predict_multi'] = pd.DataFrame(model_multi.predict(df[['distance', 'vitesse', 'day','hour']]))"
   ]
  },
  {
   "cell_type": "markdown",
   "metadata": {},
   "source": [
    "#### Visualisation des prédictions et des données l'origine:"
   ]
  },
  {
   "cell_type": "code",
   "execution_count": null,
   "metadata": {
    "pycharm": {
     "name": "#%%\n"
    }
   },
   "outputs": [],
   "source": [
    "sns.scatterplot(x = df['distance'], y = df[\"trip_duration\"],label=\"origine\", color = 'blue')\n",
    "\n",
    "sns.scatterplot(x = df['distance'], y = df[\"predict_multi\"] , label=\"predict values\", color = 'orange')\n",
    "plt.xlabel(\"Distance\")\n",
    "plt.ylabel(\"durée\")"
   ]
  },
  {
   "cell_type": "markdown",
   "metadata": {},
   "source": [
    "#### Évaluation du modèle de test"
   ]
  },
  {
   "cell_type": "code",
   "execution_count": null,
   "metadata": {
    "pycharm": {
     "name": "#%%\n"
    }
   },
   "outputs": [],
   "source": [
    "ytrainpred = regr.predict(xtrain)\n",
    "ytestpred = regr.predict(xtest)\n",
    "\n",
    "print (\"Pour les données d'entrainement le R2 vaut {} alors que pour les données de test, il est de {}\"\n",
    "      .format(round(r2_score(ytrain, ytrainpred),3), round(r2_score(ytest, ytestpred),3)))"
   ]
  },
  {
   "cell_type": "markdown",
   "metadata": {
    "pycharm": {
     "name": "#%% md\n"
    }
   },
   "source": [
    " ## Conclusions:\n",
    "- la donnée qui influence le plus la durée du trajet est la distance. On peut le voir ci-dessous , les temps prédits (en multivarié et univarié) ont une distribution proche"
   ]
  },
  {
   "cell_type": "code",
   "execution_count": null,
   "metadata": {
    "pycharm": {
     "name": "#%%\n"
    }
   },
   "outputs": [],
   "source": [
    "# Plot outputs\n",
    "fig = plt.figure()\n",
    "plt.rcParams['figure.facecolor'] = 'white'\n",
    "\n",
    "sns.pairplot(df,\n",
    "    x_vars=['distance', 'vitesse'],\n",
    "    y_vars=['trip_duration','predict_multi','predict_uni'])\n",
    "\n",
    "plt.show()"
   ]
  }
 ],
 "metadata": {
  "kernelspec": {
   "display_name": "Python 3",
   "language": "python",
   "name": "python3"
  },
  "language_info": {
   "codemirror_mode": {
    "name": "ipython",
    "version": 3
   },
   "file_extension": ".py",
   "mimetype": "text/x-python",
   "name": "python",
   "nbconvert_exporter": "python",
   "pygments_lexer": "ipython3",
   "version": "3.7.3"
  },
  "metadata": {
   "interpreter": {
    "hash": "31f2aee4e71d21fbe5cf8b01ff0e069b9275f58929596ceb00d14d90e3e16cd6"
   }
  }
 },
 "nbformat": 4,
 "nbformat_minor": 1
}
