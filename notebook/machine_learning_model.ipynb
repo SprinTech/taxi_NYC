{
 "cells": [
  {
   "cell_type": "code",
   "execution_count": 1,
   "metadata": {},
   "outputs": [],
   "source": [
    "import pandas as pd\n",
    "import numpy as np\n",
    "import matplotlib.pyplot as plt\n",
    "\n",
    "from sklearn.model_selection import train_test_split\n",
    "from sklearn import linear_model\n",
    "from sklearn.linear_model import LogisticRegression\n",
    "from sklearn.metrics import mean_squared_error, r2_score\n",
    "\n",
    "df = pd.read_csv('/home/apprenant/taxi_NYC/Data/02_processed/cleaned_data.csv').sample(20000)"
   ]
  },
  {
   "cell_type": "markdown",
   "metadata": {},
   "source": [
    "## Modèle de régression linéaire univarié"
   ]
  },
  {
   "cell_type": "markdown",
   "metadata": {},
   "source": [
    "### 1. Modèlisation"
   ]
  },
  {
   "cell_type": "code",
   "execution_count": 2,
   "metadata": {},
   "outputs": [],
   "source": [
    "# Sélection de la variable cible et des variables à explicatives\n",
    "X = df[['distance']]\n",
    "y = df[['trip_duration']]"
   ]
  },
  {
   "cell_type": "code",
   "execution_count": 3,
   "metadata": {},
   "outputs": [
    {
     "name": "stderr",
     "output_type": "stream",
     "text": [
      "/home/apprenant/anaconda3/lib/python3.7/site-packages/sklearn/model_selection/_split.py:2179: FutureWarning: From version 0.21, test_size will always complement train_size unless both are specified.\n",
      "  FutureWarning)\n"
     ]
    }
   ],
   "source": [
    "# Division du jeu de données en training/validation/testing sets\n",
    "xtrain, xtest, ytrain, ytest = train_test_split(X, y, train_size=0.8)"
   ]
  },
  {
   "cell_type": "code",
   "execution_count": 4,
   "metadata": {},
   "outputs": [],
   "source": [
    "# Apprentissage sur le training set\n",
    "regr = linear_model.LinearRegression()\n",
    "regr.fit(xtrain, ytrain)\n",
    "model_uni = linear_model.LinearRegression().fit(xtrain, ytrain)"
   ]
  },
  {
   "cell_type": "code",
   "execution_count": 5,
   "metadata": {},
   "outputs": [
    {
     "name": "stdout",
     "output_type": "stream",
     "text": [
      "Le coefficient β1 est égal à 129.68 tandis que l'intercept β0 est égal à 303.0\n",
      "\n",
      "\n",
      "On comprend donc que la durée est de 303.0s auquel il faut ajouter 129.68s par trajet\n"
     ]
    }
   ],
   "source": [
    "df['predict_uni'] = pd.DataFrame(model_uni.predict(df[['distance']]))\n",
    "\n",
    "print(\"Le coefficient β1 est égal à {} tandis que l'intercept β0 est égal à {}\"\n",
    "      .format(np.round(regr.coef_[0][0],2),np.round(regr.intercept_[0])))\n",
    "\n",
    "print(\"\\n\")\n",
    "\n",
    "print(\"On comprend donc que la durée est de {}s auquel il faut ajouter {}s par trajet\"\n",
    "     .format(np.round(regr.intercept_[0]),np.round(regr.coef_[0][0],2)))"
   ]
  },
  {
   "cell_type": "code",
   "execution_count": 6,
   "metadata": {},
   "outputs": [
    {
     "name": "stdout",
     "output_type": "stream",
     "text": [
      "Selon le modèle, pour une distance de 1.5 km à NYC temps de trajet serait de 497.0 s\n",
      "\n",
      "\n",
      "On remarque que 1.5 * 129.68 + 303.0 = 497.52\n"
     ]
    }
   ],
   "source": [
    "# Test de la prédiction sur une valeur précise\n",
    "x_to_predict = 1.5\n",
    "x_df =  pd.DataFrame({'trip_duration': [x_to_predict]})\n",
    "\n",
    "print(\"Selon le modèle, pour une distance de {} km à NYC temps de trajet serait de {} s\"\n",
    "      .format(x_to_predict, round(regr.predict(x_df)[0][0])))\n",
    "\n",
    "print(\"\\n\")\n",
    "\n",
    "print (\"On remarque que {} * {} + {} = {}\"\n",
    "       .format(x_to_predict,np.round(regr.coef_[0][0],2),np.round(regr.intercept_[0]),\n",
    "               x_to_predict*np.round(regr.coef_[0][0],2)+np.round(regr.intercept_[0])))"
   ]
  },
  {
   "cell_type": "code",
   "execution_count": 7,
   "metadata": {},
   "outputs": [
    {
     "data": {
      "image/png": "[encoded data removed]",
      "text/plain": [
       "<Figure size 432x288 with 1 Axes>"
      ]
     },
     "metadata": {
      "needs_background": "light"
     },
     "output_type": "display_data"
    }
   ],
   "source": [
    "# Visualisation de la prédiction sous forme de regplot\n",
    "ytrainpred = regr.predict(xtrain)\n",
    "\n",
    "\n",
    "# Plot outputs\n",
    "plt.scatter(xtrain, ytrain,  color='red')\n",
    "plt.plot(xtrain, ytrainpred, color='blue', linewidth=3)\n",
    "plt.show()"
   ]
  },
  {
   "cell_type": "markdown",
   "metadata": {},
   "source": [
    "### Évaluation du modèle sur le testing set"
   ]
  },
  {
   "cell_type": "code",
   "execution_count": 8,
   "metadata": {},
   "outputs": [
    {
     "name": "stdout",
     "output_type": "stream",
     "text": [
      "Pour les données d'entrainement le R2 vaut 0.727 alors que pour les données de test, il est de 0.736\n"
     ]
    }
   ],
   "source": [
    "# Calcul du coefficient de détermination\n",
    "ytrainpred = regr.predict(xtrain)\n",
    "ytestpred = regr.predict(xtest)\n",
    "\n",
    "print (\"Pour les données d'entrainement le R2 vaut {} alors que pour les données de test, il est de {}\" \n",
    "      .format(round(r2_score(ytrain, ytrainpred),3), round(r2_score(ytest, ytestpred),3)))"
   ]
  },
  {
   "cell_type": "code",
   "execution_count": 9,
   "metadata": {},
   "outputs": [
    {
     "ename": "TypeError",
     "evalue": "mean_squared_error() got an unexpected keyword argument 'squared'",
     "output_type": "error",
     "traceback": [
      "\u001b[0;31m---------------------------------------------------------------------------\u001b[0m",
      "\u001b[0;31mTypeError\u001b[0m                                 Traceback (most recent call last)",
      "\u001b[0;32m<ipython-input-9-3d520afdb3be>\u001b[0m in \u001b[0;36m<module>\u001b[0;34m\u001b[0m\n\u001b[1;32m      1\u001b[0m print (\"Pour les données d'entrainement le RMSE vaut {} alors que pour les données de test, il est de {}\" \n\u001b[0;32m----> 2\u001b[0;31m       .format(round(mean_squared_error(ytrain, ytrainpred, squared=False),3), \n\u001b[0m\u001b[1;32m      3\u001b[0m               round(mean_squared_error(ytest, ytestpred, squared=False),3)))\n",
      "\u001b[0;31mTypeError\u001b[0m: mean_squared_error() got an unexpected keyword argument 'squared'"
     ]
    }
   ],
   "source": [
    "print (\"Pour les données d'entrainement le RMSE vaut {} alors que pour les données de test, il est de {}\" \n",
    "      .format(round(mean_squared_error(ytrain, ytrainpred, squared=False),3), \n",
    "              round(mean_squared_error(ytest, ytestpred, squared=False),3)))"
   ]
  }
 ],
 "metadata": {
  "kernelspec": {
   "display_name": "Python 3",
   "language": "python",
   "name": "python3"
  },
  "language_info": {
   "codemirror_mode": {
    "name": "ipython",
    "version": 3
   },
   "file_extension": ".py",
   "mimetype": "text/x-python",
   "name": "python",
   "nbconvert_exporter": "python",
   "pygments_lexer": "ipython3",
   "version": "3.7.3"
  }
 },
 "nbformat": 4,
 "nbformat_minor": 2
}
